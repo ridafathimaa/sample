{
  "cells": [
    {
      "cell_type": "markdown",
      "metadata": {
        "id": "view-in-github",
        "colab_type": "text"
      },
      "source": [
        "<a href=\"https://colab.research.google.com/github/ridafathimaa/sample/blob/main/Pattern.ipynb\" target=\"_parent\"><img src=\"https://colab.research.google.com/assets/colab-badge.svg\" alt=\"Open In Colab\"/></a>"
      ]
    },
    {
      "cell_type": "markdown",
      "metadata": {
        "id": "TJcIXO7pwuc_"
      },
      "source": [
        "Print patterns"
      ]
    },
    {
      "cell_type": "code",
      "execution_count": null,
      "metadata": {
        "id": "qZz0Aoixwp6i"
      },
      "outputs": [],
      "source": [
        "for i in range(1,6):\n",
        " output=\"\"\n",
        " for j in range(1,i+1):\n",
        "    output+=\"*\"\n",
        " print(output)"
      ]
    },
    {
      "cell_type": "code",
      "execution_count": null,
      "metadata": {
        "colab": {
          "base_uri": "https://localhost:8080/"
        },
        "id": "u985PkaBszEB",
        "outputId": "6fd6811e-5ff2-424e-b8a2-05f64f4a7b67"
      },
      "outputs": [
        {
          "output_type": "stream",
          "name": "stdout",
          "text": [
            "*****\n",
            "****\n",
            "***\n",
            "**\n",
            "*\n"
          ]
        }
      ],
      "source": [
        "a=5\n",
        "for i in range(a,0,-1):\n",
        " output=\"\"\n",
        " for j in range(1,i+1):\n",
        "  output+='*'\n",
        " print(output)"
      ]
    },
    {
      "cell_type": "code",
      "execution_count": null,
      "metadata": {
        "colab": {
          "base_uri": "https://localhost:8080/"
        },
        "id": "e_Z6fJeQurEg",
        "outputId": "78decb86-9e20-439e-b1cf-db10a1c21ba8"
      },
      "outputs": [
        {
          "output_type": "stream",
          "name": "stdout",
          "text": [
            "******\n",
            "*   *\n",
            "*  *\n",
            "* *\n",
            "**\n",
            "*\n"
          ]
        }
      ],
      "source": [
        "for i in range(6,0,-1):\n",
        " output=\"\"\n",
        " for j in range(1,i+1):\n",
        "   if i==6 or j==1 or i==j:\n",
        "    output+=\"*\"\n",
        "   else:\n",
        "    output+=\" \"\n",
        " print(output)"
      ]
    },
    {
      "cell_type": "code",
      "source": [
        "for i in range(6):\n",
        " print(\" \" * (6 - i -1) + \"*\" * (2 * i + 1))"
      ],
      "metadata": {
        "colab": {
          "base_uri": "https://localhost:8080/"
        },
        "id": "oftCWJANdCwy",
        "outputId": "a37178d8-bc3e-4d38-ccbb-a602979622a3"
      },
      "execution_count": null,
      "outputs": [
        {
          "output_type": "stream",
          "name": "stdout",
          "text": [
            "     *\n",
            "    ***\n",
            "   *****\n",
            "  *******\n",
            " *********\n",
            "***********\n"
          ]
        }
      ]
    },
    {
      "cell_type": "code",
      "source": [
        "for i in range(6, 0, -1):\n",
        "  print(\" \" * (6 - i) + \"*\" * (2 * i - 1))"
      ],
      "metadata": {
        "colab": {
          "base_uri": "https://localhost:8080/"
        },
        "id": "8y46qVqogVg6",
        "outputId": "6b8d2962-e13f-4fa4-ad39-dc58148474b7"
      },
      "execution_count": null,
      "outputs": [
        {
          "output_type": "stream",
          "name": "stdout",
          "text": [
            "***********\n",
            " *********\n",
            "  *******\n",
            "   *****\n",
            "    ***\n",
            "     *\n"
          ]
        }
      ]
    },
    {
      "cell_type": "code",
      "source": [
        "n=int(input(\"Enter the number of rows : \"))\n",
        "for i in range(n,0,-1):\n",
        " for j in range(i,0,-1):\n",
        "  print(\"*\",end=\" \")\n",
        " for j in range(2*(n-i)):\n",
        "  print(\" \",end=\" \")\n",
        " for j in range(i,0,-1):\n",
        "  print(\"*\",end=\" \")\n",
        " print()\n",
        "for i in range(1,n):\n",
        " for j in range(i+1):\n",
        "  print(\"*\",end=\" \")\n",
        " for j in range(2*(n-i-1)):\n",
        "  print(\" \",end=\" \")\n",
        " for j in range(i+1):\n",
        "  print(\"*\",end=\" \")\n",
        " print()"
      ],
      "metadata": {
        "id": "Od8OycHAKJ6X"
      },
      "execution_count": null,
      "outputs": []
    },
    {
      "cell_type": "code",
      "source": [
        "for i in range(6):\n",
        " print(\" \" * (6 - i ) + \"*\" + \" \" * (2 * i - 1) + \"*\" * (i != 0))"
      ],
      "metadata": {
        "colab": {
          "base_uri": "https://localhost:8080/"
        },
        "id": "KLzfCKVmgPoF",
        "outputId": "ff0f8196-6710-46e2-bf9b-13a974ce7c3a"
      },
      "execution_count": null,
      "outputs": [
        {
          "output_type": "stream",
          "name": "stdout",
          "text": [
            "      *\n",
            "     * *\n",
            "    *   *\n",
            "   *     *\n",
            "  *       *\n",
            " *         *\n"
          ]
        }
      ]
    },
    {
      "cell_type": "code",
      "source": [
        "for i in range(6, 1, -1):\n",
        "  print(\" \" * (6 - i) + \"*\" * (2 * i - 1))\n",
        "for i in range(6):\n",
        " print(\" \" * (6 -i-1 ) + \"*\" * (2 * i + 1))"
      ],
      "metadata": {
        "id": "bHgraOZkrjOU",
        "outputId": "6efe4dff-b57f-4598-9860-e591d2b85990",
        "colab": {
          "base_uri": "https://localhost:8080/"
        }
      },
      "execution_count": null,
      "outputs": [
        {
          "output_type": "stream",
          "name": "stdout",
          "text": [
            "***********\n",
            " *********\n",
            "  *******\n",
            "   *****\n",
            "    ***\n",
            "     *\n",
            "    ***\n",
            "   *****\n",
            "  *******\n",
            " *********\n",
            "***********\n"
          ]
        }
      ]
    },
    {
      "cell_type": "code",
      "source": [
        "n=int(input(\"Enter the row of pascal pyramid : \"))\n",
        "for i in range(0, n+1):\n",
        "    for j in range(0, n-i+1):\n",
        "        print(' ',end='')\n",
        "    C = 1\n",
        "    for d in range(1, i+1):\n",
        "     print(' ', C,sep='',end='')\n",
        "     C = C * (i - d) // d\n",
        "    print()"
      ],
      "metadata": {
        "id": "Gl3pBx1Lv0jh",
        "outputId": "c916ad6d-6d6e-4180-99da-d47c02fdf073",
        "colab": {
          "base_uri": "https://localhost:8080/"
        }
      },
      "execution_count": null,
      "outputs": [
        {
          "output_type": "stream",
          "name": "stdout",
          "text": [
            "Enter the row of pascal pyramid : 5\n",
            "      \n",
            "      1\n",
            "     1 1\n",
            "    1 2 1\n",
            "   1 3 3 1\n",
            "  1 4 6 4 1\n"
          ]
        }
      ]
    },
    {
      "cell_type": "code",
      "source": [
        "for i in range(6,0,-1)\n",
        " print(\"*\""
      ],
      "metadata": {
        "id": "iPHbULek87wt"
      },
      "execution_count": null,
      "outputs": []
    }
  ],
  "metadata": {
    "colab": {
      "provenance": [],
      "include_colab_link": true
    },
    "kernelspec": {
      "display_name": "Python 3",
      "name": "python3"
    },
    "language_info": {
      "name": "python"
    }
  },
  "nbformat": 4,
  "nbformat_minor": 0
}